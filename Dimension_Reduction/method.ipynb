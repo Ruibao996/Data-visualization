{
 "cells": [
  {
   "cell_type": "markdown",
   "metadata": {},
   "source": [
    "# Method\n",
    "In this part you can run my Dimension_Reduction step by step, or you can just run the **`reduction.py`**.\n",
    "Results are in `mds_data.csv`, `pca_data.csv`, `tsne_data.csv`, `umap_data.csv` .\n"
   ]
  },
  {
   "cell_type": "code",
   "execution_count": 5,
   "metadata": {},
   "outputs": [],
   "source": [
    "from sklearn.preprocessing import StandardScaler, OneHotEncoder\n",
    "from sklearn.impute import SimpleImputer\n",
    "from sklearn.compose import ColumnTransformer\n",
    "from sklearn.pipeline import Pipeline\n",
    "from sklearn.decomposition import PCA\n",
    "from sklearn.manifold import TSNE, MDS\n",
    "import umap as umap_module\n",
    "import pandas as pd\n",
    "import numpy as np"
   ]
  },
  {
   "cell_type": "markdown",
   "metadata": {},
   "source": [
    "## Data Preparation"
   ]
  },
  {
   "cell_type": "code",
   "execution_count": 6,
   "metadata": {},
   "outputs": [],
   "source": [
    "def data_prep(datapath, num_features, cat_features, date_feature, impute_strategy='mean', scale=True):\n",
    "    # Load the data\n",
    "    data = pd.read_csv(datapath)\n",
    "\n",
    "    # Convert date feature to numerical\n",
    "    data[date_feature] = pd.to_datetime(data[date_feature])\n",
    "    data['Year'] = data[date_feature].dt.year\n",
    "    data['Month'] = data[date_feature].dt.month\n",
    "    data['Day'] = data[date_feature].dt.day\n",
    "    num_features += ['Year', 'Month', 'Day']\n",
    "\n",
    "    # Define the transformers\n",
    "    num_transformer = Pipeline(steps=[\n",
    "        ('imputer', SimpleImputer(strategy=impute_strategy)),\n",
    "        ('scaler', StandardScaler())]) if scale else SimpleImputer(strategy=impute_strategy)\n",
    "\n",
    "    cat_transformer = Pipeline(steps=[\n",
    "        ('imputer', SimpleImputer(strategy='constant', fill_value='missing')),\n",
    "        ('onehot', OneHotEncoder(handle_unknown='ignore'))])\n",
    "\n",
    "    # Combine the transformers\n",
    "    preprocessor = ColumnTransformer(\n",
    "        transformers=[\n",
    "            ('num', num_transformer, num_features),\n",
    "            ('cat', cat_transformer, cat_features)])\n",
    "\n",
    "    # Fit and transform the data\n",
    "    data_prepared = preprocessor.fit_transform(data)\n",
    "\n",
    "    return data_prepared"
   ]
  },
  {
   "cell_type": "markdown",
   "metadata": {},
   "source": [
    "## Reduction\n"
   ]
  },
  {
   "cell_type": "code",
   "execution_count": 7,
   "metadata": {},
   "outputs": [],
   "source": [
    "def mds(data, n_components=2, metric=True):\n",
    "    mds = MDS(n_components=n_components, metric=metric)\n",
    "    return mds.fit_transform(data)\n",
    "\n",
    "def pca(data, n_components=2):\n",
    "    pca = PCA(n_components=n_components)\n",
    "    return pca.fit_transform(data)\n",
    "\n",
    "def tsne(data, n_components=2, perplexity=30, learning_rate=200):\n",
    "    tsne = TSNE(n_components=n_components, perplexity=perplexity, learning_rate=learning_rate)\n",
    "    return tsne.fit_transform(data)\n",
    "\n",
    "def umap_func(data, n_components=2, n_neighbors=15, min_dist=0.1):\n",
    "    umap = umap_module.UMAP(n_components=n_components, n_neighbors=n_neighbors, min_dist=min_dist)\n",
    "    return umap.fit_transform(data)\n"
   ]
  },
  {
   "cell_type": "markdown",
   "metadata": {},
   "source": [
    "## Data\n"
   ]
  },
  {
   "cell_type": "code",
   "execution_count": 8,
   "metadata": {},
   "outputs": [
    {
     "name": "stderr",
     "output_type": "stream",
     "text": [
      "/var/folders/68/y816p_6x2018gj5z_9g2nwqr0000gn/T/ipykernel_34726/1499748032.py:6: UserWarning: Parsing dates in DD/MM/YYYY format when dayfirst=False (the default) was specified. This may lead to inconsistently parsed dates! Specify a format to ensure consistent parsing.\n",
      "  data[date_feature] = pd.to_datetime(data[date_feature])\n",
      "/var/folders/68/y816p_6x2018gj5z_9g2nwqr0000gn/T/ipykernel_34726/1499748032.py:6: UserWarning: Parsing dates in DD/MM/YYYY format when dayfirst=False (the default) was specified. This may lead to inconsistently parsed dates! Specify a format to ensure consistent parsing.\n",
      "  data[date_feature] = pd.to_datetime(data[date_feature])\n"
     ]
    }
   ],
   "source": [
    "# Load the data\n",
    "datapath = \"/Users/liruifeng/Desktop/Data Visualization/homework/hw2/Dimension_Reduction/data/EssayAnalysis.csv\"\n",
    "\n",
    "# Define the numerical and categorical features\n",
    "num_features = ['Number of Essays', 'True', 'False', 'Blank', 'Net', 'ExamDuration']\n",
    "cat_features = ['EssayPublication']\n",
    "date_feature = 'Date'\n",
    "data_prepared = data_prep(datapath, num_features, cat_features, date_feature)\n",
    "\n",
    "# Prepare the data\n",
    "data = data_prep(datapath, num_features, cat_features, date_feature)"
   ]
  },
  {
   "cell_type": "markdown",
   "metadata": {},
   "source": [
    "## pca"
   ]
  },
  {
   "cell_type": "code",
   "execution_count": 9,
   "metadata": {},
   "outputs": [],
   "source": [
    "# Perform PCA\n",
    "pca_data = pca(data, n_components=2)\n",
    "pca_data_df = pd.DataFrame(pca_data, columns=['PC1', 'PC2'])"
   ]
  },
  {
   "cell_type": "markdown",
   "metadata": {},
   "source": [
    "## t-sne"
   ]
  },
  {
   "cell_type": "code",
   "execution_count": 10,
   "metadata": {},
   "outputs": [],
   "source": [
    "# Perform t-SNE\n",
    "tsne_data = tsne(data, n_components=2, perplexity=5, learning_rate=200)\n",
    "tsne_data_df = pd.DataFrame(tsne_data, columns=['TSNE1', 'TSNE2'])"
   ]
  },
  {
   "cell_type": "markdown",
   "metadata": {},
   "source": [
    "## mds"
   ]
  },
  {
   "cell_type": "code",
   "execution_count": 11,
   "metadata": {},
   "outputs": [
    {
     "name": "stderr",
     "output_type": "stream",
     "text": [
      "/Users/liruifeng/miniconda3/lib/python3.11/site-packages/sklearn/manifold/_mds.py:299: FutureWarning: The default value of `normalized_stress` will change to `'auto'` in version 1.4. To suppress this warning, manually set the value of `normalized_stress`.\n",
      "  warnings.warn(\n"
     ]
    }
   ],
   "source": [
    "# Perform MDS\n",
    "mds_data = mds(data, n_components=2, metric=True)\n",
    "mds_data_df = pd.DataFrame(mds_data, columns=['MDS1', 'MDS2'])"
   ]
  },
  {
   "cell_type": "markdown",
   "metadata": {},
   "source": [
    "## umap"
   ]
  },
  {
   "cell_type": "code",
   "execution_count": 12,
   "metadata": {},
   "outputs": [],
   "source": [
    "# Perform UMAP\n",
    "umap_data = umap_func(data, n_components=2, n_neighbors=15, min_dist=0.1)\n",
    "umap_data_df = pd.DataFrame(umap_data, columns=['UMAP1', 'UMAP2'])"
   ]
  },
  {
   "cell_type": "markdown",
   "metadata": {},
   "source": [
    "## Data after cluster\n",
    "**pca**\n",
    "![pca_cluster](/Users/liruifeng/Desktop/Data Visualization/homework/hw2/Dimension_Reduction/result/PCA Clusters.png)\n",
    "\n",
    "**t-sne**\n",
    "![t_sne_cluster](/Users/liruifeng/Desktop/Data Visualization/homework/hw2/Dimension_Reduction/result/t-SNE Clusters.png)\n",
    "\n",
    "**mds**\n",
    "![mds_cluster](/Users/liruifeng/Desktop/Data Visualization/homework/hw2/Dimension_Reduction/result/MDS Clusters.png)\n",
    "\n",
    "**umap**\n",
    "![umap_cluster](/Users/liruifeng/Desktop/Data Visualization/homework/hw2/Dimension_Reduction/result/UMAP Clusters.png)\n"
   ]
  }
 ],
 "metadata": {
  "kernelspec": {
   "display_name": "base",
   "language": "python",
   "name": "python3"
  },
  "language_info": {
   "codemirror_mode": {
    "name": "ipython",
    "version": 3
   },
   "file_extension": ".py",
   "mimetype": "text/x-python",
   "name": "python",
   "nbconvert_exporter": "python",
   "pygments_lexer": "ipython3",
   "version": "3.11.8"
  }
 },
 "nbformat": 4,
 "nbformat_minor": 2
}
